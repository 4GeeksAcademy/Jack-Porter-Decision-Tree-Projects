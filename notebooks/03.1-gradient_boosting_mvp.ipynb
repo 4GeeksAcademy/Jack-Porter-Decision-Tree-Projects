{
 "cells": [
  {
   "cell_type": "markdown",
   "metadata": {},
   "source": [
    "# Diabetes prediction: gradient boosting\n",
    "\n",
    "## Notebook set-up"
   ]
  },
  {
   "cell_type": "code",
   "execution_count": 5,
   "metadata": {},
   "outputs": [],
   "source": [
    "import pickle\n",
    "import numpy as np\n",
    "import pandas as pd\n",
    "import seaborn as sns\n",
    "import matplotlib.pyplot as plt\n",
    "from sklearn.model_selection import cross_val_score, GridSearchCV\n",
    "from sklearn.metrics import accuracy_score, confusion_matrix, ConfusionMatrixDisplay, classification_report\n",
    "from sklearn.ensemble import GradientBoostingClassifier\n",
    "\n",
    "import configuration as config\n",
    "import functions as funcs"
   ]
  },
  {
   "cell_type": "markdown",
   "metadata": {},
   "source": [
    "## 1. Data preparation\n",
    "\n",
    "### 1.1. Load data from disk"
   ]
  },
  {
   "cell_type": "code",
   "execution_count": 6,
   "metadata": {},
   "outputs": [],
   "source": [
    "with open(config.DATA_FILE, 'rb') as input_file:\n",
    "    dataset=pickle.load(input_file)\n",
    "\n",
    "training_df=dataset['training']\n",
    "testing_df=dataset['testing']"
   ]
  },
  {
   "cell_type": "markdown",
   "metadata": {},
   "source": [
    "### 1.2. Inspect"
   ]
  },
  {
   "cell_type": "code",
   "execution_count": 7,
   "metadata": {},
   "outputs": [
    {
     "data": {
      "text/html": [
       "<div>\n",
       "<style scoped>\n",
       "    .dataframe tbody tr th:only-of-type {\n",
       "        vertical-align: middle;\n",
       "    }\n",
       "\n",
       "    .dataframe tbody tr th {\n",
       "        vertical-align: top;\n",
       "    }\n",
       "\n",
       "    .dataframe thead th {\n",
       "        text-align: right;\n",
       "    }\n",
       "</style>\n",
       "<table border=\"1\" class=\"dataframe\">\n",
       "  <thead>\n",
       "    <tr style=\"text-align: right;\">\n",
       "      <th></th>\n",
       "      <th>Pregnancies</th>\n",
       "      <th>Glucose</th>\n",
       "      <th>BloodPressure</th>\n",
       "      <th>SkinThickness</th>\n",
       "      <th>Insulin</th>\n",
       "      <th>BMI</th>\n",
       "      <th>DiabetesPedigreeFunction</th>\n",
       "      <th>Age</th>\n",
       "      <th>Outcome</th>\n",
       "    </tr>\n",
       "  </thead>\n",
       "  <tbody>\n",
       "    <tr>\n",
       "      <th>717</th>\n",
       "      <td>10</td>\n",
       "      <td>94.0</td>\n",
       "      <td>72.0</td>\n",
       "      <td>18.0</td>\n",
       "      <td>NaN</td>\n",
       "      <td>23.1</td>\n",
       "      <td>0.595</td>\n",
       "      <td>56</td>\n",
       "      <td>0</td>\n",
       "    </tr>\n",
       "    <tr>\n",
       "      <th>64</th>\n",
       "      <td>7</td>\n",
       "      <td>114.0</td>\n",
       "      <td>66.0</td>\n",
       "      <td>NaN</td>\n",
       "      <td>NaN</td>\n",
       "      <td>32.8</td>\n",
       "      <td>0.258</td>\n",
       "      <td>42</td>\n",
       "      <td>1</td>\n",
       "    </tr>\n",
       "    <tr>\n",
       "      <th>510</th>\n",
       "      <td>12</td>\n",
       "      <td>84.0</td>\n",
       "      <td>72.0</td>\n",
       "      <td>31.0</td>\n",
       "      <td>NaN</td>\n",
       "      <td>29.7</td>\n",
       "      <td>0.297</td>\n",
       "      <td>46</td>\n",
       "      <td>1</td>\n",
       "    </tr>\n",
       "    <tr>\n",
       "      <th>104</th>\n",
       "      <td>2</td>\n",
       "      <td>85.0</td>\n",
       "      <td>65.0</td>\n",
       "      <td>NaN</td>\n",
       "      <td>NaN</td>\n",
       "      <td>39.6</td>\n",
       "      <td>0.930</td>\n",
       "      <td>27</td>\n",
       "      <td>0</td>\n",
       "    </tr>\n",
       "    <tr>\n",
       "      <th>657</th>\n",
       "      <td>1</td>\n",
       "      <td>120.0</td>\n",
       "      <td>80.0</td>\n",
       "      <td>48.0</td>\n",
       "      <td>200.0</td>\n",
       "      <td>38.9</td>\n",
       "      <td>1.162</td>\n",
       "      <td>41</td>\n",
       "      <td>0</td>\n",
       "    </tr>\n",
       "  </tbody>\n",
       "</table>\n",
       "</div>"
      ],
      "text/plain": [
       "     Pregnancies  Glucose  BloodPressure  SkinThickness  Insulin   BMI  \\\n",
       "717           10     94.0           72.0           18.0      NaN  23.1   \n",
       "64             7    114.0           66.0            NaN      NaN  32.8   \n",
       "510           12     84.0           72.0           31.0      NaN  29.7   \n",
       "104            2     85.0           65.0            NaN      NaN  39.6   \n",
       "657            1    120.0           80.0           48.0    200.0  38.9   \n",
       "\n",
       "     DiabetesPedigreeFunction  Age  Outcome  \n",
       "717                     0.595   56        0  \n",
       "64                      0.258   42        1  \n",
       "510                     0.297   46        1  \n",
       "104                     0.930   27        0  \n",
       "657                     1.162   41        0  "
      ]
     },
     "execution_count": 7,
     "metadata": {},
     "output_type": "execute_result"
    }
   ],
   "source": [
    "training_df.head()"
   ]
  },
  {
   "cell_type": "markdown",
   "metadata": {},
   "source": [
    "## 2. Baseline model"
   ]
  },
  {
   "cell_type": "code",
   "execution_count": null,
   "metadata": {},
   "outputs": [
    {
     "name": "stdout",
     "output_type": "stream",
     "text": [
      "Accuracy: 0.75\n"
     ]
    }
   ],
   "source": [
    "from sklearn.ensemble import HistGradientBoostingClassifier\n",
    "from sklearn.metrics import accuracy_score\n",
    "\n",
    "hgb = HistGradientBoostingClassifier(random_state=42)  # accepts NaNs\n",
    "hgb.fit(X_train, y_train)\n",
    "y_pred = hgb.predict(X_test)\n",
    "\n",
    "print(\"Accuracy:\", accuracy_score(y_test, y_pred))\n"
   ]
  },
  {
   "cell_type": "code",
   "execution_count": 20,
   "metadata": {},
   "outputs": [
    {
     "name": "stdout",
     "output_type": "stream",
     "text": [
      "Insulin          193\n",
      "SkinThickness    122\n",
      "BloodPressure     20\n",
      "BMI                7\n",
      "Glucose            3\n",
      "dtype: int64\n",
      "CV Accuracy: 0.761 ± 0.025\n"
     ]
    }
   ],
   "source": [
    "from sklearn.model_selection import cross_validate, StratifiedKFold\n",
    "from sklearn.pipeline import make_pipeline\n",
    "from sklearn.impute import SimpleImputer\n",
    "from sklearn.ensemble import GradientBoostingClassifier\n",
    "import numpy as np\n",
    "import pandas as pd\n",
    "\n",
    "X = training_df.drop(\"Outcome\", axis=1)\n",
    "y = training_df[\"Outcome\"]\n",
    "\n",
    "# optional: see where NaNs are\n",
    "print(X.isna().sum().sort_values(ascending=False).head())\n",
    "\n",
    "pipe = make_pipeline(\n",
    "    SimpleImputer(strategy=\"median\"),          # fills NaNs\n",
    "    GradientBoostingClassifier(random_state=42)\n",
    ")\n",
    "\n",
    "cv = StratifiedKFold(n_splits=7, shuffle=True, random_state=42)\n",
    "\n",
    "scores = cross_validate(\n",
    "    pipe, X, y,\n",
    "    cv=cv,\n",
    "    scoring={\"accuracy\": \"accuracy\", \"f1\": \"f1\"},\n",
    "    n_jobs=-1,\n",
    "    return_train_score=False\n",
    ")\n",
    "\n",
    "print(f\"CV Accuracy: {np.mean(scores['test_accuracy']):.3f} ± {np.std(scores['test_accuracy']):.3f}\")"
   ]
  },
  {
   "cell_type": "markdown",
   "metadata": {},
   "source": [
    "## 3. Hyperparameter optimization\n",
    "\n",
    "### 3.1. Hyperparameter grid search"
   ]
  },
  {
   "cell_type": "code",
   "execution_count": 40,
   "metadata": {},
   "outputs": [
    {
     "name": "stdout",
     "output_type": "stream",
     "text": [
      "Fitting 5 folds for each of 729 candidates, totalling 3645 fits\n",
      "Best params: {'gb__learning_rate': 0.05, 'gb__max_depth': 2, 'gb__max_features': 'sqrt', 'gb__min_samples_leaf': 1, 'gb__n_estimators': 200, 'gb__subsample': 0.8}\n",
      "Best CV accuracy: 0.7943950786056049\n"
     ]
    }
   ],
   "source": [
    "from sklearn.ensemble import GradientBoostingClassifier\n",
    "from sklearn.model_selection import GridSearchCV, StratifiedKFold\n",
    "from sklearn.pipeline import Pipeline\n",
    "from sklearn.impute import SimpleImputer\n",
    "\n",
    "X_train = training_df.drop(\"Outcome\", axis=1)\n",
    "y_train = training_df[\"Outcome\"]\n",
    "\n",
    "pipe = Pipeline([\n",
    "    (\"imputer\", SimpleImputer(strategy=\"median\")),     # handles NaNs\n",
    "    (\"gb\", GradientBoostingClassifier(random_state=42))\n",
    "])\n",
    "\n",
    "\n",
    "# compact grid so it finishes quickly\n",
    "param_grid = {\n",
    "    \"gb__n_estimators\":     [100, 200, 300],\n",
    "    \"gb__learning_rate\":    [0.05, 0.1, 0.2],\n",
    "    \"gb__max_depth\":        [2, 3, 4],\n",
    "    \"gb__subsample\":        [0.6, 0.8, 1.0],\n",
    "    \"gb__max_features\":     [None, \"sqrt\", \"log2\"],\n",
    "    \"gb__min_samples_leaf\": [1, 3, 5],\n",
    "}\n",
    "\n",
    "cv = StratifiedKFold(n_splits=5, shuffle=True, random_state=42)\n",
    "\n",
    "search_results = GridSearchCV(\n",
    "    estimator=pipe,\n",
    "    param_grid=param_grid,\n",
    "    scoring=\"accuracy\",          \n",
    "    refit=True,\n",
    "    cv=cv,\n",
    "    n_jobs=-1,\n",
    "    return_train_score=True,\n",
    "    verbose=1\n",
    ")\n",
    "\n",
    "search_results.fit(X_train, y_train)\n",
    "model = search_results.best_estimator_\n",
    "\n",
    "print(\"Best params:\", search_results.best_params_)\n",
    "print(\"Best CV accuracy:\", search_results.best_score_)"
   ]
  },
  {
   "cell_type": "markdown",
   "metadata": {},
   "source": [
    "### 3.2. Hyperparameter optimization results"
   ]
  },
  {
   "cell_type": "code",
   "execution_count": 24,
   "metadata": {},
   "outputs": [
    {
     "data": {
      "image/png": "[encoded data removed]",
      "text/plain": [
       "<Figure size 640x480 with 1 Axes>"
      ]
     },
     "metadata": {},
     "output_type": "display_data"
    }
   ],
   "source": [
    "funcs.plot_cross_validation(search_results)"
   ]
  },
  {
   "cell_type": "markdown",
   "metadata": {},
   "source": [
    "### 3.3. Cross-validation of optimized model"
   ]
  },
  {
   "cell_type": "code",
   "execution_count": null,
   "metadata": {},
   "outputs": [
    {
     "name": "stdout",
     "output_type": "stream",
     "text": [
      "Optimized model — CV Accuracy: 0.768 ± 0.035\n"
     ]
    }
   ],
   "source": [
    "optimized_model = search_results.best_estimator_\n",
    "\n",
    "X = training_df.drop(\"Outcome\", axis=1)\n",
    "y = training_df[\"Outcome\"]\n",
    "\n",
    "cv = StratifiedKFold(n_splits=7, shuffle=True, random_state=42)\n",
    "\n",
    "cv_scores = cross_validate(\n",
    "    optimized_model,\n",
    "    X, y,\n",
    "    cv=cv,\n",
    "    scoring={\"accuracy\": \"accuracy\"},\n",
    "    n_jobs=-1,\n",
    "    return_train_score=False\n",
    ")\n",
    "\n",
    "# Summary\n",
    "acc_mean, acc_std = np.mean(cv_scores[\"test_accuracy\"]), np.std(cv_scores[\"test_accuracy\"])\n",
    "\n",
    "cv_table = pd.DataFrame({\n",
    "    \"Fold\": range(1, len(cv_scores[\"test_accuracy\"]) + 1),\n",
    "    \"Accuracy\": cv_scores[\"test_accuracy\"],\n",
    "})\n",
    "\n",
    "print(f\"Optimized model — CV Accuracy: {acc_mean:.3f} ± {acc_std:.3f}\")"
   ]
  },
  {
   "cell_type": "markdown",
   "metadata": {},
   "source": [
    "## 4. Evaluation\n",
    "\n",
    "### 4.1. Model comparison"
   ]
  },
  {
   "cell_type": "code",
   "execution_count": 41,
   "metadata": {},
   "outputs": [
    {
     "ename": "NameError",
     "evalue": "name 'LogisticRegression' is not defined",
     "output_type": "error",
     "traceback": [
      "\u001b[31m---------------------------------------------------------------------------\u001b[39m",
      "\u001b[31mNameError\u001b[39m                                 Traceback (most recent call last)",
      "\u001b[36mCell\u001b[39m\u001b[36m \u001b[39m\u001b[32mIn[41]\u001b[39m\u001b[32m, line 5\u001b[39m\n\u001b[32m      1\u001b[39m \u001b[38;5;66;03m# This time, compare the optimized version of all three models: decision tree, random forest and gradient boosting. You might also want to throw in a logistic regression as a standard of comparison.\u001b[39;00m\n\u001b[32m      3\u001b[39m models={}\n\u001b[32m----> \u001b[39m\u001b[32m5\u001b[39m models[\u001b[33m'\u001b[39m\u001b[33mLogistic regression\u001b[39m\u001b[33m'\u001b[39m]=\u001b[43mLogisticRegression\u001b[49m().fit(training_df.drop(\u001b[33m'\u001b[39m\u001b[33mOutcome\u001b[39m\u001b[33m'\u001b[39m, axis=\u001b[32m1\u001b[39m), training_df[\u001b[33m'\u001b[39m\u001b[33mOutcome\u001b[39m\u001b[33m'\u001b[39m])\n\u001b[32m      7\u001b[39m \u001b[38;5;28;01mwith\u001b[39;00m \u001b[38;5;28mopen\u001b[39m(config.DECISION_TREE_MODEL, \u001b[33m'\u001b[39m\u001b[33mrb\u001b[39m\u001b[33m'\u001b[39m) \u001b[38;5;28;01mas\u001b[39;00m input_file:\n\u001b[32m      8\u001b[39m     models[\u001b[33m'\u001b[39m\u001b[33mDecision tree\u001b[39m\u001b[33m'\u001b[39m]=pickle.load(input_file)\n",
      "\u001b[31mNameError\u001b[39m: name 'LogisticRegression' is not defined"
     ]
    }
   ],
   "source": [
    "# This time, compare the optimized version of all three models: decision tree, random forest and gradient boosting. You might also want to throw in a logistic regression as a standard of comparison.\n",
    "\n",
    "models={}\n",
    "\n",
    "models['Logistic regression']=LogisticRegression().fit(training_df.drop('Outcome', axis=1), training_df['Outcome'])\n",
    "\n",
    "with open(config.DECISION_TREE_MODEL, 'rb') as input_file:\n",
    "    models['Decision tree']=pickle.load(input_file)\n",
    "\n",
    "with open(config.RANDOM_FOREST_MODEL, 'rb') as input_file:\n",
    "    models['Random forest']=pickle.load(input_file)\n",
    "\n",
    "models['Gradient boosting']=model\n",
    "\n",
    "cross_val_scores={\n",
    "    'Model': [],\n",
    "    'Score': []\n",
    "}\n",
    "\n",
    "for model_name, model in models.items():\n",
    "\n",
    "    scores=cross_val_score(\n",
    "        model,\n",
    "        training_df.drop('Outcome', axis=1),\n",
    "        training_df['Outcome'],\n",
    "        cv=30,\n",
    "        n_jobs=-1\n",
    "    )\n",
    "\n",
    "    cross_val_scores['Model'].extend([model_name]*len(scores))\n",
    "    cross_val_scores['Score'].extend(scores)\n",
    "\n",
    "sns.boxplot(pd.DataFrame.from_dict(cross_val_scores), x='Model', y='Score')\n",
    "plt.show()\n",
    "sns.boxplot(pd.DataFrame.from_dict(cross_val_scores), x='Model', y='Score')\n",
    "plt.show()"
   ]
  },
  {
   "cell_type": "markdown",
   "metadata": {},
   "source": [
    "### 4.2. Test set performance"
   ]
  },
  {
   "cell_type": "code",
   "execution_count": null,
   "metadata": {},
   "outputs": [],
   "source": [
    "# Evaluate the test set performance of all three models\n",
    "# Your code here..."
   ]
  },
  {
   "cell_type": "markdown",
   "metadata": {},
   "source": [
    "## 5. Save\n",
    "\n",
    "### 5.1. Optimized hyperparameters"
   ]
  },
  {
   "cell_type": "code",
   "execution_count": null,
   "metadata": {},
   "outputs": [],
   "source": [
    "with open(config.GRADIENT_BOOSTING_HYPERPARAMETERS, 'wb') as output_file:\n",
    "    pickle.dump(hyperparameters.best_params_, output_file)"
   ]
  },
  {
   "cell_type": "markdown",
   "metadata": {},
   "source": [
    "### 5.2. Model"
   ]
  },
  {
   "cell_type": "code",
   "execution_count": null,
   "metadata": {},
   "outputs": [],
   "source": [
    "with open(config.GRADIENT_BOOSTING_MODEL, 'wb') as output_file:\n",
    "    pickle.dump(model, output_file)"
   ]
  }
 ],
 "metadata": {
  "kernelspec": {
   "display_name": "Python 3",
   "language": "python",
   "name": "python3"
  },
  "language_info": {
   "codemirror_mode": {
    "name": "ipython",
    "version": 3
   },
   "file_extension": ".py",
   "mimetype": "text/x-python",
   "name": "python",
   "nbconvert_exporter": "python",
   "pygments_lexer": "ipython3",
   "version": "3.11.4"
  }
 },
 "nbformat": 4,
 "nbformat_minor": 2
}
